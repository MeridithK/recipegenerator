{
 "cells": [
  {
   "cell_type": "code",
   "execution_count": 16,
   "metadata": {},
   "outputs": [
    {
     "name": "stdout",
     "output_type": "stream",
     "text": [
      "Apple Cake IV\n",
      "['5 apple - peeled, cored and sliced', '2 cups all-purpose flour', '½ teaspoon salt', '4 teaspoons ground cinnamon', '4 teaspoons baking powder', '4 eggs', '2 cups white sugar', '1 cup vegetable oil', '2 teaspoons vanilla extract', '1 cup chopped walnuts', '4 teaspoons white sugar', '1 teaspoon ground cinnamon']\n",
      "<class 'list'>\n"
     ]
    }
   ],
   "source": [
    "from recipe_scrapers import scrape_me\n",
    "\n",
    "# give the url as a string, it can be url from any site listed below\n",
    "scraper = scrape_me('http://allrecipes.com/Recipe/Apple-Cake-Iv/Detail.aspx')\n",
    "\n",
    "print(scraper.title())\n",
    "print(scraper.ingredients())\n",
    "print(type(scraper.ingredients()))\n"
   ]
  },
  {
   "cell_type": "code",
   "execution_count": 7,
   "metadata": {
    "scrolled": true
   },
   "outputs": [
    {
     "name": "stdout",
     "output_type": "stream",
     "text": [
      "Preheat oven to 350 degrees F (175 degrees C) lightly grease and flour a 9x13 inch pan.\n",
      "Sift together flour, salt, cinnamon and baking powder. Set aside.\n",
      "In a large bowl, beat eggs and sugar for 15 minutes on high speed with an electric mixer. Add oil and blend in.\n",
      "Add four mixture and mix well. Add vanilla. Fold in apples and nuts. Pour batter into 9x13 inch pan.\n",
      "In a small bowl, mix 4 teaspoons sugar with 1 teaspoon cinnamon. Sprinkle over cake.\n",
      "Bake at 350 degrees F (175 degrees C) for 50 to 60 minutes or until a toothpick inserted into center of cake comes out clean.\n"
     ]
    }
   ],
   "source": [
    "print(scraper.instructions())"
   ]
  },
  {
   "cell_type": "code",
   "execution_count": 4,
   "metadata": {},
   "outputs": [
    {
     "name": "stdout",
     "output_type": "stream",
     "text": [
      "Mexican Rice Casserole\n",
      "['2 tablespoons canola oil', '3 cloves garlic, minced', '1/2 to 1 whole large onion, chopped', '4 cups long grain rice', 'Two 14.5-ounce cans whole tomatoes', 'One 10-ounce can diced tomatoes and green chiles, such as Rotel', '1 teaspoon cumin (or more to taste)', '1 teaspoon kosher salt', '1 teaspoon ground black pepper', '1/2 teaspoon cayenne pepper', '1/4 teaspoon turmeric', '6 to 8 cups low-sodium chicken broth (more if needed)', '1 1/2 cups grated Cheddar', 'Fresh cilantro, chopped, for serving']\n"
     ]
    }
   ],
   "source": [
    "scraper2 = scrape_me('https://www.foodnetwork.com/recipes/ree-drummond/mexican-rice-casserole-recipe-2043294')\n",
    "print(scraper2.title())\n",
    "print(scraper2.ingredients())"
   ]
  },
  {
   "cell_type": "code",
   "execution_count": 9,
   "metadata": {},
   "outputs": [
    {
     "data": {
      "text/plain": [
       "str"
      ]
     },
     "execution_count": 9,
     "metadata": {},
     "output_type": "execute_result"
    }
   ],
   "source": [
    "type(scraper2.instructions())"
   ]
  },
  {
   "cell_type": "code",
   "execution_count": 17,
   "metadata": {},
   "outputs": [
    {
     "name": "stdout",
     "output_type": "stream",
     "text": [
      "Geeks\n",
      "for\n",
      "Geeks\n"
     ]
    }
   ],
   "source": [
    "# This code to turn a list into strings taken from https://www.geeksforgeeks.org/python-program-to-convert-a-list-to-string/\n",
    "# Function to convert   \n",
    "def listToString(s):  \n",
    "    \n",
    "    # initialize an empty string \n",
    "    str1 = \"\\n\" \n",
    "    \n",
    "    # return string   \n",
    "    return (str1.join(s)) \n",
    "        \n",
    "        \n",
    "# Driver code     \n",
    "s = ['Geeks', 'for', 'Geeks'] \n",
    "print(listToString(s))  "
   ]
  },
  {
   "cell_type": "code",
   "execution_count": 20,
   "metadata": {},
   "outputs": [],
   "source": [
    "\n",
    "h = open('C:\\\\Users\\\\pomer\\\\Casserole.txt', \"w+\", encoding=\"utf-8\")\n",
    "h.write(scraper2.title() + \"\\n\" + listToString(scraper2.ingredients()) + scraper2.instructions())\n",
    "h.close()\n"
   ]
  },
  {
   "cell_type": "code",
   "execution_count": null,
   "metadata": {},
   "outputs": [],
   "source": [
    "h = open('recipe_14.txt', \"w+\", encoding=\"utf-8\")\n",
    "count = 0\n",
    "for i in range(140000,150000):\n",
    "    scraper = scrape_me('https://www.allrecipes.com/recipe/' + str(i))\n",
    "    h.write(scraper.title() + \"\\n\" + listToString(scraper.ingredients()) + scraper.instructions() + \"\\n\" + \"\\n\")\n",
    "    count += 1\n",
    "h.close()\n",
    "print(count)"
   ]
  }
 ],
 "metadata": {
  "kernelspec": {
   "display_name": "Python 3",
   "language": "python",
   "name": "python3"
  },
  "language_info": {
   "codemirror_mode": {
    "name": "ipython",
    "version": 3
   },
   "file_extension": ".py",
   "mimetype": "text/x-python",
   "name": "python",
   "nbconvert_exporter": "python",
   "pygments_lexer": "ipython3",
   "version": "3.7.6"
  }
 },
 "nbformat": 4,
 "nbformat_minor": 4
}
